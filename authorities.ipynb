{
 "cells": [
  {
   "cell_type": "code",
   "execution_count": 1,
   "metadata": {
    "collapsed": true
   },
   "outputs": [
    {
     "data": {
      "text/plain": "       contractingAuthorityId  \\\n0                           1   \n1                           2   \n2                           3   \n3                           4   \n4                           5   \n...                       ...   \n47970                   47976   \n47971                   47977   \n47972                   47978   \n47973                   47979   \n47974                   47980   \n\n                                                    name         CUI  \n0                 ORASUL LUDUS (Primaria Orasului Ludus)     5669317  \n1                 UNIVERSITATEA \"LUCIAN BLAGA\" DIN SIBIU     4480173  \n2      DIRECTIA SANITARA VETERINARA SI PENTRU SIGURAN...     4231652  \n3                  COMUNA HLIPICENI (PRIMARIA HLIPICENI)     3373365  \n4      R.A. ROMATSA - ADMINISTRATIA ROMANA A SERVICII...    R1589932  \n...                                                  ...         ...  \n47970        COMUNA BUDACU DE JOS - ACTIVITATE ECONOMICA  RO13414802  \n47971            DIRECTIA JUDETEANA PENTRU CULTURA BUZAU     3724342  \n47972                 Asociatia Clubul Sportiv ENDURANCH    39459158  \n47973                            SPP12/CV2 - AGROCOLCEAG    43768593  \n47974              LICEUL TEORETIC \"CORIOLAN BREDICEANU\"     4269258  \n\n[47975 rows x 3 columns]",
      "text/html": "<div>\n<style scoped>\n    .dataframe tbody tr th:only-of-type {\n        vertical-align: middle;\n    }\n\n    .dataframe tbody tr th {\n        vertical-align: top;\n    }\n\n    .dataframe thead th {\n        text-align: right;\n    }\n</style>\n<table border=\"1\" class=\"dataframe\">\n  <thead>\n    <tr style=\"text-align: right;\">\n      <th></th>\n      <th>contractingAuthorityId</th>\n      <th>name</th>\n      <th>CUI</th>\n    </tr>\n  </thead>\n  <tbody>\n    <tr>\n      <th>0</th>\n      <td>1</td>\n      <td>ORASUL LUDUS (Primaria Orasului Ludus)</td>\n      <td>5669317</td>\n    </tr>\n    <tr>\n      <th>1</th>\n      <td>2</td>\n      <td>UNIVERSITATEA \"LUCIAN BLAGA\" DIN SIBIU</td>\n      <td>4480173</td>\n    </tr>\n    <tr>\n      <th>2</th>\n      <td>3</td>\n      <td>DIRECTIA SANITARA VETERINARA SI PENTRU SIGURAN...</td>\n      <td>4231652</td>\n    </tr>\n    <tr>\n      <th>3</th>\n      <td>4</td>\n      <td>COMUNA HLIPICENI (PRIMARIA HLIPICENI)</td>\n      <td>3373365</td>\n    </tr>\n    <tr>\n      <th>4</th>\n      <td>5</td>\n      <td>R.A. ROMATSA - ADMINISTRATIA ROMANA A SERVICII...</td>\n      <td>R1589932</td>\n    </tr>\n    <tr>\n      <th>...</th>\n      <td>...</td>\n      <td>...</td>\n      <td>...</td>\n    </tr>\n    <tr>\n      <th>47970</th>\n      <td>47976</td>\n      <td>COMUNA BUDACU DE JOS - ACTIVITATE ECONOMICA</td>\n      <td>RO13414802</td>\n    </tr>\n    <tr>\n      <th>47971</th>\n      <td>47977</td>\n      <td>DIRECTIA JUDETEANA PENTRU CULTURA BUZAU</td>\n      <td>3724342</td>\n    </tr>\n    <tr>\n      <th>47972</th>\n      <td>47978</td>\n      <td>Asociatia Clubul Sportiv ENDURANCH</td>\n      <td>39459158</td>\n    </tr>\n    <tr>\n      <th>47973</th>\n      <td>47979</td>\n      <td>SPP12/CV2 - AGROCOLCEAG</td>\n      <td>43768593</td>\n    </tr>\n    <tr>\n      <th>47974</th>\n      <td>47980</td>\n      <td>LICEUL TEORETIC \"CORIOLAN BREDICEANU\"</td>\n      <td>4269258</td>\n    </tr>\n  </tbody>\n</table>\n<p>47975 rows × 3 columns</p>\n</div>"
     },
     "execution_count": 1,
     "metadata": {},
     "output_type": "execute_result"
    }
   ],
   "source": [
    "import pandas as pd\n",
    "\n",
    "authorities = pd.read_csv('data/contractingAuthorities_list(15.09.22).csv', sep=';')\n",
    "\n",
    "authorities"
   ]
  },
  {
   "cell_type": "code",
   "execution_count": 2,
   "outputs": [
    {
     "data": {
      "text/plain": "       contractingAuthorityId  \\\n0                           1   \n1                           2   \n2                           3   \n3                           4   \n4                           5   \n...                       ...   \n47970                   47976   \n47971                   47977   \n47972                   47978   \n47973                   47979   \n47974                   47980   \n\n                                                    name         CUI  \n0                 ORASUL LUDUS (Primaria Orasului Ludus)     5669317  \n1                 UNIVERSITATEA \"LUCIAN BLAGA\" DIN SIBIU     4480173  \n2      DIRECTIA SANITARA VETERINARA SI PENTRU SIGURAN...     4231652  \n3                  COMUNA HLIPICENI (PRIMARIA HLIPICENI)     3373365  \n4      R.A. ROMATSA - ADMINISTRATIA ROMANA A SERVICII...    R1589932  \n...                                                  ...         ...  \n47970        COMUNA BUDACU DE JOS - ACTIVITATE ECONOMICA  RO13414802  \n47971            DIRECTIA JUDETEANA PENTRU CULTURA BUZAU     3724342  \n47972                 Asociatia Clubul Sportiv ENDURANCH    39459158  \n47973                            SPP12/CV2 - AGROCOLCEAG    43768593  \n47974              LICEUL TEORETIC \"CORIOLAN BREDICEANU\"     4269258  \n\n[30576 rows x 3 columns]",
      "text/html": "<div>\n<style scoped>\n    .dataframe tbody tr th:only-of-type {\n        vertical-align: middle;\n    }\n\n    .dataframe tbody tr th {\n        vertical-align: top;\n    }\n\n    .dataframe thead th {\n        text-align: right;\n    }\n</style>\n<table border=\"1\" class=\"dataframe\">\n  <thead>\n    <tr style=\"text-align: right;\">\n      <th></th>\n      <th>contractingAuthorityId</th>\n      <th>name</th>\n      <th>CUI</th>\n    </tr>\n  </thead>\n  <tbody>\n    <tr>\n      <th>0</th>\n      <td>1</td>\n      <td>ORASUL LUDUS (Primaria Orasului Ludus)</td>\n      <td>5669317</td>\n    </tr>\n    <tr>\n      <th>1</th>\n      <td>2</td>\n      <td>UNIVERSITATEA \"LUCIAN BLAGA\" DIN SIBIU</td>\n      <td>4480173</td>\n    </tr>\n    <tr>\n      <th>2</th>\n      <td>3</td>\n      <td>DIRECTIA SANITARA VETERINARA SI PENTRU SIGURAN...</td>\n      <td>4231652</td>\n    </tr>\n    <tr>\n      <th>3</th>\n      <td>4</td>\n      <td>COMUNA HLIPICENI (PRIMARIA HLIPICENI)</td>\n      <td>3373365</td>\n    </tr>\n    <tr>\n      <th>4</th>\n      <td>5</td>\n      <td>R.A. ROMATSA - ADMINISTRATIA ROMANA A SERVICII...</td>\n      <td>R1589932</td>\n    </tr>\n    <tr>\n      <th>...</th>\n      <td>...</td>\n      <td>...</td>\n      <td>...</td>\n    </tr>\n    <tr>\n      <th>47970</th>\n      <td>47976</td>\n      <td>COMUNA BUDACU DE JOS - ACTIVITATE ECONOMICA</td>\n      <td>RO13414802</td>\n    </tr>\n    <tr>\n      <th>47971</th>\n      <td>47977</td>\n      <td>DIRECTIA JUDETEANA PENTRU CULTURA BUZAU</td>\n      <td>3724342</td>\n    </tr>\n    <tr>\n      <th>47972</th>\n      <td>47978</td>\n      <td>Asociatia Clubul Sportiv ENDURANCH</td>\n      <td>39459158</td>\n    </tr>\n    <tr>\n      <th>47973</th>\n      <td>47979</td>\n      <td>SPP12/CV2 - AGROCOLCEAG</td>\n      <td>43768593</td>\n    </tr>\n    <tr>\n      <th>47974</th>\n      <td>47980</td>\n      <td>LICEUL TEORETIC \"CORIOLAN BREDICEANU\"</td>\n      <td>4269258</td>\n    </tr>\n  </tbody>\n</table>\n<p>30576 rows × 3 columns</p>\n</div>"
     },
     "execution_count": 2,
     "metadata": {},
     "output_type": "execute_result"
    }
   ],
   "source": [
    "cui_authorities = authorities.loc[authorities[\"CUI\"].notnull()]\n",
    "\n",
    "cui_authorities"
   ],
   "metadata": {
    "collapsed": false
   }
  },
  {
   "cell_type": "code",
   "execution_count": 3,
   "outputs": [
    {
     "data": {
      "text/plain": "       contractingAuthorityId  \\\n15                         16   \n25                         26   \n32                         33   \n37                         38   \n55                         56   \n...                       ...   \n47949                   47955   \n47950                   47956   \n47960                   47966   \n47966                   47972   \n47970                   47976   \n\n                                                    name         CUI  \n15                           ELECTROCENTRALE GALATI S.A.  RO16044852  \n25             REGIA AUTONOMA PENTRU ACTIVITATI NUCLEARE  RO10882752  \n32                                HIDROSERV-SLATINA S.A.  RO14949758  \n37          REPARATII SI SERVICII TERMOSERV CRAIOVA S.A.  RO15376918  \n55                        Electrocentrale Bucuresti S.A.  RO15189596  \n...                                                  ...         ...  \n47949                                      Fundatia MARe  RO33753358  \n47950  Societatea Nationala de Gaze Naturale ROMGAZ S...  RO14056826  \n47960  Societatea Nationala de Gaze Naturale Romgaz S...  RO14056826  \n47966            UNIVERSITATEA \"STEFAN CEL MARE\" Suceava  RO37821331  \n47970        COMUNA BUDACU DE JOS - ACTIVITATE ECONOMICA  RO13414802  \n\n[2485 rows x 3 columns]",
      "text/html": "<div>\n<style scoped>\n    .dataframe tbody tr th:only-of-type {\n        vertical-align: middle;\n    }\n\n    .dataframe tbody tr th {\n        vertical-align: top;\n    }\n\n    .dataframe thead th {\n        text-align: right;\n    }\n</style>\n<table border=\"1\" class=\"dataframe\">\n  <thead>\n    <tr style=\"text-align: right;\">\n      <th></th>\n      <th>contractingAuthorityId</th>\n      <th>name</th>\n      <th>CUI</th>\n    </tr>\n  </thead>\n  <tbody>\n    <tr>\n      <th>15</th>\n      <td>16</td>\n      <td>ELECTROCENTRALE GALATI S.A.</td>\n      <td>RO16044852</td>\n    </tr>\n    <tr>\n      <th>25</th>\n      <td>26</td>\n      <td>REGIA AUTONOMA PENTRU ACTIVITATI NUCLEARE</td>\n      <td>RO10882752</td>\n    </tr>\n    <tr>\n      <th>32</th>\n      <td>33</td>\n      <td>HIDROSERV-SLATINA S.A.</td>\n      <td>RO14949758</td>\n    </tr>\n    <tr>\n      <th>37</th>\n      <td>38</td>\n      <td>REPARATII SI SERVICII TERMOSERV CRAIOVA S.A.</td>\n      <td>RO15376918</td>\n    </tr>\n    <tr>\n      <th>55</th>\n      <td>56</td>\n      <td>Electrocentrale Bucuresti S.A.</td>\n      <td>RO15189596</td>\n    </tr>\n    <tr>\n      <th>...</th>\n      <td>...</td>\n      <td>...</td>\n      <td>...</td>\n    </tr>\n    <tr>\n      <th>47949</th>\n      <td>47955</td>\n      <td>Fundatia MARe</td>\n      <td>RO33753358</td>\n    </tr>\n    <tr>\n      <th>47950</th>\n      <td>47956</td>\n      <td>Societatea Nationala de Gaze Naturale ROMGAZ S...</td>\n      <td>RO14056826</td>\n    </tr>\n    <tr>\n      <th>47960</th>\n      <td>47966</td>\n      <td>Societatea Nationala de Gaze Naturale Romgaz S...</td>\n      <td>RO14056826</td>\n    </tr>\n    <tr>\n      <th>47966</th>\n      <td>47972</td>\n      <td>UNIVERSITATEA \"STEFAN CEL MARE\" Suceava</td>\n      <td>RO37821331</td>\n    </tr>\n    <tr>\n      <th>47970</th>\n      <td>47976</td>\n      <td>COMUNA BUDACU DE JOS - ACTIVITATE ECONOMICA</td>\n      <td>RO13414802</td>\n    </tr>\n  </tbody>\n</table>\n<p>2485 rows × 3 columns</p>\n</div>"
     },
     "execution_count": 3,
     "metadata": {},
     "output_type": "execute_result"
    }
   ],
   "source": [
    "vat_authorities = cui_authorities.loc[cui_authorities['CUI'].str.contains('RO', case=False)]\n",
    "\n",
    "vat_authorities"
   ],
   "metadata": {
    "collapsed": false
   }
  },
  {
   "cell_type": "code",
   "execution_count": null,
   "outputs": [],
   "source": [],
   "metadata": {
    "collapsed": false
   }
  }
 ],
 "metadata": {
  "kernelspec": {
   "display_name": "Python 3",
   "language": "python",
   "name": "python3"
  },
  "language_info": {
   "codemirror_mode": {
    "name": "ipython",
    "version": 2
   },
   "file_extension": ".py",
   "mimetype": "text/x-python",
   "name": "python",
   "nbconvert_exporter": "python",
   "pygments_lexer": "ipython2",
   "version": "2.7.6"
  }
 },
 "nbformat": 4,
 "nbformat_minor": 0
}
