{
 "cells": [
  {
   "cell_type": "code",
   "execution_count": 80,
   "metadata": {
    "collapsed": true
   },
   "outputs": [
    {
     "data": {
      "text/plain": "       noticeNo  contractValue  \\\n0       1051322     2424229.00   \n1       1063267     1252530.00   \n2       1063564      133657.00   \n3       1063609      151470.00   \n4       1040794    28211330.00   \n...         ...            ...   \n42470    103838       12400.00   \n42471    103836        9520.00   \n42472    103803       58500.00   \n42473    103753       36693.89   \n42474    103739       27396.38   \n\n                                                   title currencyCode  \\\n0      Acord-cadru de prestare servicii de întreținer...          RON   \n1      Servicii de împădurire - 21.II. Regenerări art...          RON   \n2      Servicii de curatenie pentru sediile administr...          RON   \n3      SISTEM COLECTARE APE DE LA SIFON TRASEU COLECT...          RON   \n4      Acord – cadru de Servicii de pază pentru SPUM”...          RON   \n...                                                  ...          ...   \n42470            Servicii de audit financiar independent          RON   \n42471  Servicii de audit financiar independent pentru...          RON   \n42472  servicii de teleasistenta, mentenanta si furni...          EUR   \n42473  Contract de lucrari suplimentare pentru obiect...          RON   \n42474  Servicii de telefonie fixa in unitatile RATB-R...          EUR   \n\n           publicationDate countyCode  \\\n0      2021-09-30 00:00:00          B   \n1      2021-09-30 00:00:00          B   \n2      2021-09-30 00:00:00         CJ   \n3      2021-09-30 00:00:00         SB   \n4      2021-09-30 00:00:00         MS   \n...                    ...        ...   \n42470  2011-03-15 16:51:00          B   \n42471  2011-03-15 16:48:00          B   \n42472  2011-03-15 15:11:00         IF   \n42473  2011-03-15 13:28:00         SV   \n42474  2011-03-15 13:20:00          B   \n\n                                contractingAuthorityName  \\\n0      Inspectoratul pentru Situatii de Urgenta \"Deal...   \n1              REGIA NATIONALA A PADURILOR - ROMSILVA RA   \n2             DISTRIBUȚIE ENERGIE ELECTRICĂ ROMANIA S.A.   \n3      Societatea Nationala de Gaze Naturale Romgaz S.A.   \n4                      Primaria Municipiului Tirgu-Mures   \n...                                                  ...   \n42470            UNIVERSITATEA POLITEHNICA DIN BUCURESTI   \n42471            UNIVERSITATEA POLITEHNICA DIN BUCURESTI   \n42472                        CN Aeroporturi Bucuresti SA   \n42473                         CONSILIUL JUDETEAN SUCEAVA   \n42474              Regia Autonoma de Transport Bucuresti   \n\n                                             cpvCodeName     cpvCode  \\\n0      Servicii de reparare si de intretinere a autom...  50112000-3   \n1                         Servicii de impadurire (Rev.2)  77231600-4   \n2                          Servicii de curatenie (Rev.2)  90910000-9   \n3               Lucrari de ameliorare a mediului (Rev.2)  45262640-9   \n4                               Servicii de paza (Rev.2)  79713000-5   \n...                                                  ...         ...   \n42470      Servicii de contabilitate si de audit (Rev.2)  79210000-9   \n42471      Servicii de contabilitate si de audit (Rev.2)  79210000-9   \n42472       Servicii pentru sisteme si asistenta (Rev.2)  72250000-2   \n42473                     Lucrari de constructii (Rev.2)  45000000-7   \n42474              Servicii de telefonie publica (Rev.2)  64211000-8   \n\n       cpvCodeType  cNoticeNo  cNoticeEstimatedContractValue  \\\n0                3  1027124.0                    17263180.36   \n1                3  1032541.0                     3608558.57   \n2                3  1032467.0                      153780.00   \n3                2  1030406.0                      152340.00   \n4                3  1018162.0                    20915712.00   \n...            ...        ...                            ...   \n42470            3   113320.0                       32258.00   \n42471            3   113404.0                       20161.00   \n42472            3        NaN                            NaN   \n42473            2        NaN                            NaN   \n42474            3        NaN                            NaN   \n\n      cNoticePublicationDate  \\\n0        2020-12-25 00:35:55   \n1        2021-07-06 01:36:41   \n2        2021-06-29 11:57:15   \n3        2021-04-20 09:04:29   \n4        2020-01-15 00:36:45   \n...                      ...   \n42470    2010-12-22 16:36:00   \n42471    2010-12-23 15:30:00   \n42472                    NaN   \n42473                    NaN   \n42474                    NaN   \n\n                                            cNoticeTitle  \\\n0      Acord-cadru de prestare servicii de întreținer...   \n1      Servicii de împădurire - 21.II. Regenerări art...   \n2      Servicii de curățenie la sediile administrativ...   \n3      SISTEM COLECTARE APE DE LA SIFON TRASEU COLECT...   \n4             Acord cadru de \"Servicii de paza\" 3 loturi   \n...                                                  ...   \n42470            Servicii de audit financiar independent   \n42471  Servicii de audit financiar independent pentru...   \n42472                                                NaN   \n42473                                                NaN   \n42474                                                NaN   \n\n                                      organizationName organizationId  \n0      QUADRILLE AUTOMOTIVE SRL,Tehnoprest-2001 S.R.L.    71815,92843  \n1                   DEACU FARMCOM,PROSILVA SERV S.R.L.   85012,332890  \n2                                 DEZINFER SERVICE SRL          91285  \n3                      UTILITAR FLUID CONSTRUCT S.R.L.         239573  \n4                   AKYLE SECURITY,TETRA SISTEMS GUARD  246840,340454  \n...                                                ...            ...  \n42470                              AREXIM AUDIT S.R.L.          59558  \n42471                              AREXIM AUDIT S.R.L.          59558  \n42472                       Thorn Airfield Lighting AB          77171  \n42473                         GENERAL CONSTRUCT S.R.L.          23169  \n42474                                 SC ROMTELECOM SA           2874  \n\n[42475 rows x 16 columns]",
      "text/html": "<div>\n<style scoped>\n    .dataframe tbody tr th:only-of-type {\n        vertical-align: middle;\n    }\n\n    .dataframe tbody tr th {\n        vertical-align: top;\n    }\n\n    .dataframe thead th {\n        text-align: right;\n    }\n</style>\n<table border=\"1\" class=\"dataframe\">\n  <thead>\n    <tr style=\"text-align: right;\">\n      <th></th>\n      <th>noticeNo</th>\n      <th>contractValue</th>\n      <th>title</th>\n      <th>currencyCode</th>\n      <th>publicationDate</th>\n      <th>countyCode</th>\n      <th>contractingAuthorityName</th>\n      <th>cpvCodeName</th>\n      <th>cpvCode</th>\n      <th>cpvCodeType</th>\n      <th>cNoticeNo</th>\n      <th>cNoticeEstimatedContractValue</th>\n      <th>cNoticePublicationDate</th>\n      <th>cNoticeTitle</th>\n      <th>organizationName</th>\n      <th>organizationId</th>\n    </tr>\n  </thead>\n  <tbody>\n    <tr>\n      <th>0</th>\n      <td>1051322</td>\n      <td>2424229.00</td>\n      <td>Acord-cadru de prestare servicii de întreținer...</td>\n      <td>RON</td>\n      <td>2021-09-30 00:00:00</td>\n      <td>B</td>\n      <td>Inspectoratul pentru Situatii de Urgenta \"Deal...</td>\n      <td>Servicii de reparare si de intretinere a autom...</td>\n      <td>50112000-3</td>\n      <td>3</td>\n      <td>1027124.0</td>\n      <td>17263180.36</td>\n      <td>2020-12-25 00:35:55</td>\n      <td>Acord-cadru de prestare servicii de întreținer...</td>\n      <td>QUADRILLE AUTOMOTIVE SRL,Tehnoprest-2001 S.R.L.</td>\n      <td>71815,92843</td>\n    </tr>\n    <tr>\n      <th>1</th>\n      <td>1063267</td>\n      <td>1252530.00</td>\n      <td>Servicii de împădurire - 21.II. Regenerări art...</td>\n      <td>RON</td>\n      <td>2021-09-30 00:00:00</td>\n      <td>B</td>\n      <td>REGIA NATIONALA A PADURILOR - ROMSILVA RA</td>\n      <td>Servicii de impadurire (Rev.2)</td>\n      <td>77231600-4</td>\n      <td>3</td>\n      <td>1032541.0</td>\n      <td>3608558.57</td>\n      <td>2021-07-06 01:36:41</td>\n      <td>Servicii de împădurire - 21.II. Regenerări art...</td>\n      <td>DEACU FARMCOM,PROSILVA SERV S.R.L.</td>\n      <td>85012,332890</td>\n    </tr>\n    <tr>\n      <th>2</th>\n      <td>1063564</td>\n      <td>133657.00</td>\n      <td>Servicii de curatenie pentru sediile administr...</td>\n      <td>RON</td>\n      <td>2021-09-30 00:00:00</td>\n      <td>CJ</td>\n      <td>DISTRIBUȚIE ENERGIE ELECTRICĂ ROMANIA S.A.</td>\n      <td>Servicii de curatenie (Rev.2)</td>\n      <td>90910000-9</td>\n      <td>3</td>\n      <td>1032467.0</td>\n      <td>153780.00</td>\n      <td>2021-06-29 11:57:15</td>\n      <td>Servicii de curățenie la sediile administrativ...</td>\n      <td>DEZINFER SERVICE SRL</td>\n      <td>91285</td>\n    </tr>\n    <tr>\n      <th>3</th>\n      <td>1063609</td>\n      <td>151470.00</td>\n      <td>SISTEM COLECTARE APE DE LA SIFON TRASEU COLECT...</td>\n      <td>RON</td>\n      <td>2021-09-30 00:00:00</td>\n      <td>SB</td>\n      <td>Societatea Nationala de Gaze Naturale Romgaz S.A.</td>\n      <td>Lucrari de ameliorare a mediului (Rev.2)</td>\n      <td>45262640-9</td>\n      <td>2</td>\n      <td>1030406.0</td>\n      <td>152340.00</td>\n      <td>2021-04-20 09:04:29</td>\n      <td>SISTEM COLECTARE APE DE LA SIFON TRASEU COLECT...</td>\n      <td>UTILITAR FLUID CONSTRUCT S.R.L.</td>\n      <td>239573</td>\n    </tr>\n    <tr>\n      <th>4</th>\n      <td>1040794</td>\n      <td>28211330.00</td>\n      <td>Acord – cadru de Servicii de pază pentru SPUM”...</td>\n      <td>RON</td>\n      <td>2021-09-30 00:00:00</td>\n      <td>MS</td>\n      <td>Primaria Municipiului Tirgu-Mures</td>\n      <td>Servicii de paza (Rev.2)</td>\n      <td>79713000-5</td>\n      <td>3</td>\n      <td>1018162.0</td>\n      <td>20915712.00</td>\n      <td>2020-01-15 00:36:45</td>\n      <td>Acord cadru de \"Servicii de paza\" 3 loturi</td>\n      <td>AKYLE SECURITY,TETRA SISTEMS GUARD</td>\n      <td>246840,340454</td>\n    </tr>\n    <tr>\n      <th>...</th>\n      <td>...</td>\n      <td>...</td>\n      <td>...</td>\n      <td>...</td>\n      <td>...</td>\n      <td>...</td>\n      <td>...</td>\n      <td>...</td>\n      <td>...</td>\n      <td>...</td>\n      <td>...</td>\n      <td>...</td>\n      <td>...</td>\n      <td>...</td>\n      <td>...</td>\n      <td>...</td>\n    </tr>\n    <tr>\n      <th>42470</th>\n      <td>103838</td>\n      <td>12400.00</td>\n      <td>Servicii de audit financiar independent</td>\n      <td>RON</td>\n      <td>2011-03-15 16:51:00</td>\n      <td>B</td>\n      <td>UNIVERSITATEA POLITEHNICA DIN BUCURESTI</td>\n      <td>Servicii de contabilitate si de audit (Rev.2)</td>\n      <td>79210000-9</td>\n      <td>3</td>\n      <td>113320.0</td>\n      <td>32258.00</td>\n      <td>2010-12-22 16:36:00</td>\n      <td>Servicii de audit financiar independent</td>\n      <td>AREXIM AUDIT S.R.L.</td>\n      <td>59558</td>\n    </tr>\n    <tr>\n      <th>42471</th>\n      <td>103836</td>\n      <td>9520.00</td>\n      <td>Servicii de audit financiar independent pentru...</td>\n      <td>RON</td>\n      <td>2011-03-15 16:48:00</td>\n      <td>B</td>\n      <td>UNIVERSITATEA POLITEHNICA DIN BUCURESTI</td>\n      <td>Servicii de contabilitate si de audit (Rev.2)</td>\n      <td>79210000-9</td>\n      <td>3</td>\n      <td>113404.0</td>\n      <td>20161.00</td>\n      <td>2010-12-23 15:30:00</td>\n      <td>Servicii de audit financiar independent pentru...</td>\n      <td>AREXIM AUDIT S.R.L.</td>\n      <td>59558</td>\n    </tr>\n    <tr>\n      <th>42472</th>\n      <td>103803</td>\n      <td>58500.00</td>\n      <td>servicii de teleasistenta, mentenanta si furni...</td>\n      <td>EUR</td>\n      <td>2011-03-15 15:11:00</td>\n      <td>IF</td>\n      <td>CN Aeroporturi Bucuresti SA</td>\n      <td>Servicii pentru sisteme si asistenta (Rev.2)</td>\n      <td>72250000-2</td>\n      <td>3</td>\n      <td>NaN</td>\n      <td>NaN</td>\n      <td>NaN</td>\n      <td>NaN</td>\n      <td>Thorn Airfield Lighting AB</td>\n      <td>77171</td>\n    </tr>\n    <tr>\n      <th>42473</th>\n      <td>103753</td>\n      <td>36693.89</td>\n      <td>Contract de lucrari suplimentare pentru obiect...</td>\n      <td>RON</td>\n      <td>2011-03-15 13:28:00</td>\n      <td>SV</td>\n      <td>CONSILIUL JUDETEAN SUCEAVA</td>\n      <td>Lucrari de constructii (Rev.2)</td>\n      <td>45000000-7</td>\n      <td>2</td>\n      <td>NaN</td>\n      <td>NaN</td>\n      <td>NaN</td>\n      <td>NaN</td>\n      <td>GENERAL CONSTRUCT S.R.L.</td>\n      <td>23169</td>\n    </tr>\n    <tr>\n      <th>42474</th>\n      <td>103739</td>\n      <td>27396.38</td>\n      <td>Servicii de telefonie fixa in unitatile RATB-R...</td>\n      <td>EUR</td>\n      <td>2011-03-15 13:20:00</td>\n      <td>B</td>\n      <td>Regia Autonoma de Transport Bucuresti</td>\n      <td>Servicii de telefonie publica (Rev.2)</td>\n      <td>64211000-8</td>\n      <td>3</td>\n      <td>NaN</td>\n      <td>NaN</td>\n      <td>NaN</td>\n      <td>NaN</td>\n      <td>SC ROMTELECOM SA</td>\n      <td>2874</td>\n    </tr>\n  </tbody>\n</table>\n<p>42475 rows × 16 columns</p>\n</div>"
     },
     "execution_count": 80,
     "metadata": {},
     "output_type": "execute_result"
    }
   ],
   "source": [
    "import pandas as pd\n",
    "import numpy as np\n",
    "\n",
    "bids = pd.read_csv('data/sqllab_anunturi_de_atribuire_procedure_anunturi_de_participare_20220914T195330_v.1.0.csv', sep=';')\n",
    "\n",
    "bids"
   ]
  },
  {
   "cell_type": "code",
   "execution_count": 81,
   "outputs": [
    {
     "data": {
      "text/plain": "316491010.93933135"
     },
     "execution_count": 81,
     "metadata": {},
     "output_type": "execute_result"
    }
   ],
   "source": [
    "contract_value_mean = sum(bids.contractValue) / len(bids)\n",
    "\n",
    "contract_value_mean"
   ],
   "metadata": {
    "collapsed": false
   }
  },
  {
   "cell_type": "code",
   "execution_count": 82,
   "outputs": [
    {
     "data": {
      "text/plain": "nan"
     },
     "execution_count": 82,
     "metadata": {},
     "output_type": "execute_result"
    }
   ],
   "source": [
    "estimated_contract_value_mean = sum(bids.cNoticeEstimatedContractValue) / len(bids)\n",
    "\n",
    "estimated_contract_value_mean"
   ],
   "metadata": {
    "collapsed": false
   }
  },
  {
   "cell_type": "code",
   "execution_count": 83,
   "outputs": [
    {
     "data": {
      "text/plain": "       noticeNo  contractValue  \\\n5699     190636   1.229651e+08   \n6298     190505   7.877955e+07   \n6585     190395   1.337963e+07   \n6677     190353   5.110856e+07   \n6981     190173   3.486664e+07   \n...         ...            ...   \n42468    103763   3.180000e+05   \n42469    103848   1.987650e+05   \n42472    103803   5.850000e+04   \n42473    103753   3.669389e+04   \n42474    103739   2.739638e+04   \n\n                                                   title currencyCode  \\\n5699   Delegarea operarii Depozitului de deseuri nepe...          RON   \n6298   Delegarea prin concesiune a serviciului de ope...          RON   \n6585   „Delegarea Gestiunii Serviciului Public de col...          RON   \n6677   ,,Delegarea prin concesiune a gestiunii servic...          RON   \n6981   Delegarea prin Concesiune a activitatilor de s...          RON   \n...                                                  ...          ...   \n42468  Servicii de inginerie pentru solutionarea limi...          USD   \n42469  Contract de imprimare si implicuire facturi de...          RON   \n42472  servicii de teleasistenta, mentenanta si furni...          EUR   \n42473  Contract de lucrari suplimentare pentru obiect...          RON   \n42474  Servicii de telefonie fixa in unitatile RATB-R...          EUR   \n\n           publicationDate countyCode  \\\n5699   2019-04-12 01:30:00         NT   \n6298   2018-12-19 01:30:00         HD   \n6585   2018-11-03 01:30:00         VS   \n6677   2018-10-24 01:30:00         SV   \n6981   2018-09-12 01:30:00         MS   \n...                    ...        ...   \n42468  2011-03-15 16:58:00          B   \n42469  2011-03-15 16:55:00         PH   \n42472  2011-03-15 15:11:00         IF   \n42473  2011-03-15 13:28:00         SV   \n42474  2011-03-15 13:20:00          B   \n\n                                contractingAuthorityName  \\\n5699                                       Judetul Neamt   \n6298                            U.A.T. JUDETUL HUNEDOARA   \n6585   Asociatia pentru Dezvoltare Intercomunitara a ...   \n6677                                  MUNICIPIUL SUCEAVA   \n6981                                      Judetul  Mures   \n...                                                  ...   \n42468         Societatea Nationala NUCLEARELECTRICA S.A.   \n42469  FILIALA DE FURNIZARE A ENERGIEI ELECTRICE ELEC...   \n42472                        CN Aeroporturi Bucuresti SA   \n42473                         CONSILIUL JUDETEAN SUCEAVA   \n42474              Regia Autonoma de Transport Bucuresti   \n\n                                             cpvCodeName     cpvCode  \\\n5699               Exploatarea rampelor de gunoi (Rev.2)  90530000-1   \n6298   Servicii privind deseurile menajere si deseuri...  90500000-2   \n6585   Servicii privind deseurile menajere si deseuri...  90500000-2   \n6677   Servicii de colectare a deseurilor menajere (R...  90511000-2   \n6981   Servicii de tratare si eliminare de deseuri me...  90513000-6   \n...                                                  ...         ...   \n42468  Servicii de analiza sau consultanta tehnica (R...  71621000-7   \n42469    Servicii tipografice si servicii conexe (Rev.2)  79800000-2   \n42472       Servicii pentru sisteme si asistenta (Rev.2)  72250000-2   \n42473                     Lucrari de constructii (Rev.2)  45000000-7   \n42474              Servicii de telefonie publica (Rev.2)  64211000-8   \n\n       cpvCodeType  cNoticeNo  cNoticeEstimatedContractValue  \\\n5699             3        NaN                            NaN   \n6298             3        NaN                            NaN   \n6585             3        NaN                            NaN   \n6677             3        NaN                            NaN   \n6981             3        NaN                            NaN   \n...            ...        ...                            ...   \n42468            3        NaN                            NaN   \n42469            3        NaN                            NaN   \n42472            3        NaN                            NaN   \n42473            2        NaN                            NaN   \n42474            3        NaN                            NaN   \n\n      cNoticePublicationDate cNoticeTitle  \\\n5699                     NaN          NaN   \n6298                     NaN          NaN   \n6585                     NaN          NaN   \n6677                     NaN          NaN   \n6981                     NaN          NaN   \n...                      ...          ...   \n42468                    NaN          NaN   \n42469                    NaN          NaN   \n42472                    NaN          NaN   \n42473                    NaN          NaN   \n42474                    NaN          NaN   \n\n                                        organizationName organizationId  \n5699                                       ECO SUD S. A.         284812  \n6298                                       SUPERCOM S.A.          26286  \n6585                   DOMIGHIAN'S PARK S.R.L.,URBANA SA   38837,238993  \n6677   Asocierea S.C. Diasil Service SRL-SC Ritmic CO...         339860  \n6981   Asocierea SC IRIDEX GROUP IMPORT EXPORT SRL – ...         339803  \n...                                                  ...            ...  \n42468                             KALSI ENGINEERING Inc.          66459  \n42469                          TERRADOX SOLUTIONS S.R.L.          63636  \n42472                         Thorn Airfield Lighting AB          77171  \n42473                           GENERAL CONSTRUCT S.R.L.          23169  \n42474                                   SC ROMTELECOM SA           2874  \n\n[17796 rows x 16 columns]",
      "text/html": "<div>\n<style scoped>\n    .dataframe tbody tr th:only-of-type {\n        vertical-align: middle;\n    }\n\n    .dataframe tbody tr th {\n        vertical-align: top;\n    }\n\n    .dataframe thead th {\n        text-align: right;\n    }\n</style>\n<table border=\"1\" class=\"dataframe\">\n  <thead>\n    <tr style=\"text-align: right;\">\n      <th></th>\n      <th>noticeNo</th>\n      <th>contractValue</th>\n      <th>title</th>\n      <th>currencyCode</th>\n      <th>publicationDate</th>\n      <th>countyCode</th>\n      <th>contractingAuthorityName</th>\n      <th>cpvCodeName</th>\n      <th>cpvCode</th>\n      <th>cpvCodeType</th>\n      <th>cNoticeNo</th>\n      <th>cNoticeEstimatedContractValue</th>\n      <th>cNoticePublicationDate</th>\n      <th>cNoticeTitle</th>\n      <th>organizationName</th>\n      <th>organizationId</th>\n    </tr>\n  </thead>\n  <tbody>\n    <tr>\n      <th>5699</th>\n      <td>190636</td>\n      <td>1.229651e+08</td>\n      <td>Delegarea operarii Depozitului de deseuri nepe...</td>\n      <td>RON</td>\n      <td>2019-04-12 01:30:00</td>\n      <td>NT</td>\n      <td>Judetul Neamt</td>\n      <td>Exploatarea rampelor de gunoi (Rev.2)</td>\n      <td>90530000-1</td>\n      <td>3</td>\n      <td>NaN</td>\n      <td>NaN</td>\n      <td>NaN</td>\n      <td>NaN</td>\n      <td>ECO SUD S. A.</td>\n      <td>284812</td>\n    </tr>\n    <tr>\n      <th>6298</th>\n      <td>190505</td>\n      <td>7.877955e+07</td>\n      <td>Delegarea prin concesiune a serviciului de ope...</td>\n      <td>RON</td>\n      <td>2018-12-19 01:30:00</td>\n      <td>HD</td>\n      <td>U.A.T. JUDETUL HUNEDOARA</td>\n      <td>Servicii privind deseurile menajere si deseuri...</td>\n      <td>90500000-2</td>\n      <td>3</td>\n      <td>NaN</td>\n      <td>NaN</td>\n      <td>NaN</td>\n      <td>NaN</td>\n      <td>SUPERCOM S.A.</td>\n      <td>26286</td>\n    </tr>\n    <tr>\n      <th>6585</th>\n      <td>190395</td>\n      <td>1.337963e+07</td>\n      <td>„Delegarea Gestiunii Serviciului Public de col...</td>\n      <td>RON</td>\n      <td>2018-11-03 01:30:00</td>\n      <td>VS</td>\n      <td>Asociatia pentru Dezvoltare Intercomunitara a ...</td>\n      <td>Servicii privind deseurile menajere si deseuri...</td>\n      <td>90500000-2</td>\n      <td>3</td>\n      <td>NaN</td>\n      <td>NaN</td>\n      <td>NaN</td>\n      <td>NaN</td>\n      <td>DOMIGHIAN'S PARK S.R.L.,URBANA SA</td>\n      <td>38837,238993</td>\n    </tr>\n    <tr>\n      <th>6677</th>\n      <td>190353</td>\n      <td>5.110856e+07</td>\n      <td>,,Delegarea prin concesiune a gestiunii servic...</td>\n      <td>RON</td>\n      <td>2018-10-24 01:30:00</td>\n      <td>SV</td>\n      <td>MUNICIPIUL SUCEAVA</td>\n      <td>Servicii de colectare a deseurilor menajere (R...</td>\n      <td>90511000-2</td>\n      <td>3</td>\n      <td>NaN</td>\n      <td>NaN</td>\n      <td>NaN</td>\n      <td>NaN</td>\n      <td>Asocierea S.C. Diasil Service SRL-SC Ritmic CO...</td>\n      <td>339860</td>\n    </tr>\n    <tr>\n      <th>6981</th>\n      <td>190173</td>\n      <td>3.486664e+07</td>\n      <td>Delegarea prin Concesiune a activitatilor de s...</td>\n      <td>RON</td>\n      <td>2018-09-12 01:30:00</td>\n      <td>MS</td>\n      <td>Judetul  Mures</td>\n      <td>Servicii de tratare si eliminare de deseuri me...</td>\n      <td>90513000-6</td>\n      <td>3</td>\n      <td>NaN</td>\n      <td>NaN</td>\n      <td>NaN</td>\n      <td>NaN</td>\n      <td>Asocierea SC IRIDEX GROUP IMPORT EXPORT SRL – ...</td>\n      <td>339803</td>\n    </tr>\n    <tr>\n      <th>...</th>\n      <td>...</td>\n      <td>...</td>\n      <td>...</td>\n      <td>...</td>\n      <td>...</td>\n      <td>...</td>\n      <td>...</td>\n      <td>...</td>\n      <td>...</td>\n      <td>...</td>\n      <td>...</td>\n      <td>...</td>\n      <td>...</td>\n      <td>...</td>\n      <td>...</td>\n      <td>...</td>\n    </tr>\n    <tr>\n      <th>42468</th>\n      <td>103763</td>\n      <td>3.180000e+05</td>\n      <td>Servicii de inginerie pentru solutionarea limi...</td>\n      <td>USD</td>\n      <td>2011-03-15 16:58:00</td>\n      <td>B</td>\n      <td>Societatea Nationala NUCLEARELECTRICA S.A.</td>\n      <td>Servicii de analiza sau consultanta tehnica (R...</td>\n      <td>71621000-7</td>\n      <td>3</td>\n      <td>NaN</td>\n      <td>NaN</td>\n      <td>NaN</td>\n      <td>NaN</td>\n      <td>KALSI ENGINEERING Inc.</td>\n      <td>66459</td>\n    </tr>\n    <tr>\n      <th>42469</th>\n      <td>103848</td>\n      <td>1.987650e+05</td>\n      <td>Contract de imprimare si implicuire facturi de...</td>\n      <td>RON</td>\n      <td>2011-03-15 16:55:00</td>\n      <td>PH</td>\n      <td>FILIALA DE FURNIZARE A ENERGIEI ELECTRICE ELEC...</td>\n      <td>Servicii tipografice si servicii conexe (Rev.2)</td>\n      <td>79800000-2</td>\n      <td>3</td>\n      <td>NaN</td>\n      <td>NaN</td>\n      <td>NaN</td>\n      <td>NaN</td>\n      <td>TERRADOX SOLUTIONS S.R.L.</td>\n      <td>63636</td>\n    </tr>\n    <tr>\n      <th>42472</th>\n      <td>103803</td>\n      <td>5.850000e+04</td>\n      <td>servicii de teleasistenta, mentenanta si furni...</td>\n      <td>EUR</td>\n      <td>2011-03-15 15:11:00</td>\n      <td>IF</td>\n      <td>CN Aeroporturi Bucuresti SA</td>\n      <td>Servicii pentru sisteme si asistenta (Rev.2)</td>\n      <td>72250000-2</td>\n      <td>3</td>\n      <td>NaN</td>\n      <td>NaN</td>\n      <td>NaN</td>\n      <td>NaN</td>\n      <td>Thorn Airfield Lighting AB</td>\n      <td>77171</td>\n    </tr>\n    <tr>\n      <th>42473</th>\n      <td>103753</td>\n      <td>3.669389e+04</td>\n      <td>Contract de lucrari suplimentare pentru obiect...</td>\n      <td>RON</td>\n      <td>2011-03-15 13:28:00</td>\n      <td>SV</td>\n      <td>CONSILIUL JUDETEAN SUCEAVA</td>\n      <td>Lucrari de constructii (Rev.2)</td>\n      <td>45000000-7</td>\n      <td>2</td>\n      <td>NaN</td>\n      <td>NaN</td>\n      <td>NaN</td>\n      <td>NaN</td>\n      <td>GENERAL CONSTRUCT S.R.L.</td>\n      <td>23169</td>\n    </tr>\n    <tr>\n      <th>42474</th>\n      <td>103739</td>\n      <td>2.739638e+04</td>\n      <td>Servicii de telefonie fixa in unitatile RATB-R...</td>\n      <td>EUR</td>\n      <td>2011-03-15 13:20:00</td>\n      <td>B</td>\n      <td>Regia Autonoma de Transport Bucuresti</td>\n      <td>Servicii de telefonie publica (Rev.2)</td>\n      <td>64211000-8</td>\n      <td>3</td>\n      <td>NaN</td>\n      <td>NaN</td>\n      <td>NaN</td>\n      <td>NaN</td>\n      <td>SC ROMTELECOM SA</td>\n      <td>2874</td>\n    </tr>\n  </tbody>\n</table>\n<p>17796 rows × 16 columns</p>\n</div>"
     },
     "execution_count": 83,
     "metadata": {},
     "output_type": "execute_result"
    }
   ],
   "source": [
    "nan_estimated_contract_value = bids[np.isnan(bids.cNoticeEstimatedContractValue)]\n",
    "\n",
    "nan_estimated_contract_value"
   ],
   "metadata": {
    "collapsed": false
   }
  },
  {
   "cell_type": "code",
   "execution_count": 84,
   "outputs": [
    {
     "data": {
      "text/plain": "41.897586815773984"
     },
     "execution_count": 84,
     "metadata": {},
     "output_type": "execute_result"
    }
   ],
   "source": [
    "percentage_nan_estimated_contract_value = (len(nan_estimated_contract_value) / len(bids)) * 100\n",
    "\n",
    "percentage_nan_estimated_contract_value"
   ],
   "metadata": {
    "collapsed": false
   }
  },
  {
   "cell_type": "code",
   "execution_count": null,
   "outputs": [],
   "source": [
    "bids_estimated_contract_value = bids[np.isnan(bids.cNoticeEstimatedContractValue)]\n",
    "\n",
    "estimated_contract_value_mean = sum(bids.cNoticeEstimatedContractValue) / len(bids)\n",
    "\n",
    "estimated_contract_value_mean"
   ],
   "metadata": {
    "collapsed": false
   }
  }
 ],
 "metadata": {
  "kernelspec": {
   "display_name": "Python 3",
   "language": "python",
   "name": "python3"
  },
  "language_info": {
   "codemirror_mode": {
    "name": "ipython",
    "version": 2
   },
   "file_extension": ".py",
   "mimetype": "text/x-python",
   "name": "python",
   "nbconvert_exporter": "python",
   "pygments_lexer": "ipython2",
   "version": "2.7.6"
  }
 },
 "nbformat": 4,
 "nbformat_minor": 0
}
