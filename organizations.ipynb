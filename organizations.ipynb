{
 "cells": [
  {
   "cell_type": "code",
   "execution_count": 253,
   "metadata": {
    "collapsed": true
   },
   "outputs": [
    {
     "data": {
      "text/plain": "        organizationId                                      name         CUI\n0                    1  Sc Electromont Construct SRL Cluj Napoca   R12112350\n1                    2                          SC IFA GROUP SRL    16961235\n2                    3                     SC SARTOTOM IMPEX SRL    RO378562\n3                    4                        SC LABORSISTEM SRL    15417287\n4                    5                 SC GAS ALARM SERVICES SRL   R14607429\n...                ...                                       ...         ...\n289468          388116              DANI SER ADMINISTRARE S.R.L.    25386838\n289469          388117                           BURZO-CONSTRUCT     2199415\n289470          388118             MK & GE CONSTRUCT 2020 S.R.L.    42150976\n289471          388119                        ADVICE GROUP MEDIA  RO15362904\n289472          388120                          TRANS-NICOLAESCU  RO14426570\n\n[289473 rows x 3 columns]",
      "text/html": "<div>\n<style scoped>\n    .dataframe tbody tr th:only-of-type {\n        vertical-align: middle;\n    }\n\n    .dataframe tbody tr th {\n        vertical-align: top;\n    }\n\n    .dataframe thead th {\n        text-align: right;\n    }\n</style>\n<table border=\"1\" class=\"dataframe\">\n  <thead>\n    <tr style=\"text-align: right;\">\n      <th></th>\n      <th>organizationId</th>\n      <th>name</th>\n      <th>CUI</th>\n    </tr>\n  </thead>\n  <tbody>\n    <tr>\n      <th>0</th>\n      <td>1</td>\n      <td>Sc Electromont Construct SRL Cluj Napoca</td>\n      <td>R12112350</td>\n    </tr>\n    <tr>\n      <th>1</th>\n      <td>2</td>\n      <td>SC IFA GROUP SRL</td>\n      <td>16961235</td>\n    </tr>\n    <tr>\n      <th>2</th>\n      <td>3</td>\n      <td>SC SARTOTOM IMPEX SRL</td>\n      <td>RO378562</td>\n    </tr>\n    <tr>\n      <th>3</th>\n      <td>4</td>\n      <td>SC LABORSISTEM SRL</td>\n      <td>15417287</td>\n    </tr>\n    <tr>\n      <th>4</th>\n      <td>5</td>\n      <td>SC GAS ALARM SERVICES SRL</td>\n      <td>R14607429</td>\n    </tr>\n    <tr>\n      <th>...</th>\n      <td>...</td>\n      <td>...</td>\n      <td>...</td>\n    </tr>\n    <tr>\n      <th>289468</th>\n      <td>388116</td>\n      <td>DANI SER ADMINISTRARE S.R.L.</td>\n      <td>25386838</td>\n    </tr>\n    <tr>\n      <th>289469</th>\n      <td>388117</td>\n      <td>BURZO-CONSTRUCT</td>\n      <td>2199415</td>\n    </tr>\n    <tr>\n      <th>289470</th>\n      <td>388118</td>\n      <td>MK &amp; GE CONSTRUCT 2020 S.R.L.</td>\n      <td>42150976</td>\n    </tr>\n    <tr>\n      <th>289471</th>\n      <td>388119</td>\n      <td>ADVICE GROUP MEDIA</td>\n      <td>RO15362904</td>\n    </tr>\n    <tr>\n      <th>289472</th>\n      <td>388120</td>\n      <td>TRANS-NICOLAESCU</td>\n      <td>RO14426570</td>\n    </tr>\n  </tbody>\n</table>\n<p>289473 rows × 3 columns</p>\n</div>"
     },
     "execution_count": 253,
     "metadata": {},
     "output_type": "execute_result"
    }
   ],
   "source": [
    "import pandas as pd\n",
    "\n",
    "organizations = pd.read_csv('data/organizations_ID_list(15.09.22).csv', sep=';')\n",
    "\n",
    "organizations"
   ]
  },
  {
   "cell_type": "code",
   "execution_count": 254,
   "outputs": [
    {
     "data": {
      "text/plain": "        organizationId                                      name        CUI\n0                    1  Sc Electromont Construct SRL Cluj Napoca  R12112350\n1                    2                          SC IFA GROUP SRL   16961235\n2                    3                     SC SARTOTOM IMPEX SRL   RO378562\n3                    4                        SC LABORSISTEM SRL   15417287\n4                    5                 SC GAS ALARM SERVICES SRL  R14607429\n...                ...                                       ...        ...\n289453          388101                BAUTEHNIK HOME 2022 S.R.L.   45714891\n289455          388103                       SAFESIDE CCR S.R.L.   42526435\n289465          388113                          GIA URBAN S.R.L.   46236892\n289468          388116              DANI SER ADMINISTRARE S.R.L.   25386838\n289470          388118             MK & GE CONSTRUCT 2020 S.R.L.   42150976\n\n[168860 rows x 3 columns]",
      "text/html": "<div>\n<style scoped>\n    .dataframe tbody tr th:only-of-type {\n        vertical-align: middle;\n    }\n\n    .dataframe tbody tr th {\n        vertical-align: top;\n    }\n\n    .dataframe thead th {\n        text-align: right;\n    }\n</style>\n<table border=\"1\" class=\"dataframe\">\n  <thead>\n    <tr style=\"text-align: right;\">\n      <th></th>\n      <th>organizationId</th>\n      <th>name</th>\n      <th>CUI</th>\n    </tr>\n  </thead>\n  <tbody>\n    <tr>\n      <th>0</th>\n      <td>1</td>\n      <td>Sc Electromont Construct SRL Cluj Napoca</td>\n      <td>R12112350</td>\n    </tr>\n    <tr>\n      <th>1</th>\n      <td>2</td>\n      <td>SC IFA GROUP SRL</td>\n      <td>16961235</td>\n    </tr>\n    <tr>\n      <th>2</th>\n      <td>3</td>\n      <td>SC SARTOTOM IMPEX SRL</td>\n      <td>RO378562</td>\n    </tr>\n    <tr>\n      <th>3</th>\n      <td>4</td>\n      <td>SC LABORSISTEM SRL</td>\n      <td>15417287</td>\n    </tr>\n    <tr>\n      <th>4</th>\n      <td>5</td>\n      <td>SC GAS ALARM SERVICES SRL</td>\n      <td>R14607429</td>\n    </tr>\n    <tr>\n      <th>...</th>\n      <td>...</td>\n      <td>...</td>\n      <td>...</td>\n    </tr>\n    <tr>\n      <th>289453</th>\n      <td>388101</td>\n      <td>BAUTEHNIK HOME 2022 S.R.L.</td>\n      <td>45714891</td>\n    </tr>\n    <tr>\n      <th>289455</th>\n      <td>388103</td>\n      <td>SAFESIDE CCR S.R.L.</td>\n      <td>42526435</td>\n    </tr>\n    <tr>\n      <th>289465</th>\n      <td>388113</td>\n      <td>GIA URBAN S.R.L.</td>\n      <td>46236892</td>\n    </tr>\n    <tr>\n      <th>289468</th>\n      <td>388116</td>\n      <td>DANI SER ADMINISTRARE S.R.L.</td>\n      <td>25386838</td>\n    </tr>\n    <tr>\n      <th>289470</th>\n      <td>388118</td>\n      <td>MK &amp; GE CONSTRUCT 2020 S.R.L.</td>\n      <td>42150976</td>\n    </tr>\n  </tbody>\n</table>\n<p>168860 rows × 3 columns</p>\n</div>"
     },
     "execution_count": 254,
     "metadata": {},
     "output_type": "execute_result"
    }
   ],
   "source": [
    "search_for = [\"SRL\", \"S.R.L.\"]\n",
    "\n",
    "srl_organizations = organizations.loc[organizations['name'].str.contains('|'.join(search_for), case=False)]\n",
    "\n",
    "srl_organizations"
   ],
   "metadata": {
    "collapsed": false
   }
  },
  {
   "cell_type": "code",
   "execution_count": 255,
   "outputs": [
    {
     "data": {
      "text/plain": "58.33359242485482"
     },
     "execution_count": 255,
     "metadata": {},
     "output_type": "execute_result"
    }
   ],
   "source": [
    "percentage_srl_organizations = (len(srl_organizations) / len(organizations)) * 100\n",
    "\n",
    "percentage_srl_organizations"
   ],
   "metadata": {
    "collapsed": false
   }
  },
  {
   "cell_type": "code",
   "execution_count": 256,
   "outputs": [
    {
     "data": {
      "text/plain": "        organizationId                                      name         CUI\n0                    1  Sc Electromont Construct SRL Cluj Napoca   R12112350\n1                    2                          SC IFA GROUP SRL    16961235\n2                    3                     SC SARTOTOM IMPEX SRL    RO378562\n3                    4                        SC LABORSISTEM SRL    15417287\n4                    5                 SC GAS ALARM SERVICES SRL   R14607429\n...                ...                                       ...         ...\n289468          388116              DANI SER ADMINISTRARE S.R.L.    25386838\n289469          388117                           BURZO-CONSTRUCT     2199415\n289470          388118             MK & GE CONSTRUCT 2020 S.R.L.    42150976\n289471          388119                        ADVICE GROUP MEDIA  RO15362904\n289472          388120                          TRANS-NICOLAESCU  RO14426570\n\n[238167 rows x 3 columns]",
      "text/html": "<div>\n<style scoped>\n    .dataframe tbody tr th:only-of-type {\n        vertical-align: middle;\n    }\n\n    .dataframe tbody tr th {\n        vertical-align: top;\n    }\n\n    .dataframe thead th {\n        text-align: right;\n    }\n</style>\n<table border=\"1\" class=\"dataframe\">\n  <thead>\n    <tr style=\"text-align: right;\">\n      <th></th>\n      <th>organizationId</th>\n      <th>name</th>\n      <th>CUI</th>\n    </tr>\n  </thead>\n  <tbody>\n    <tr>\n      <th>0</th>\n      <td>1</td>\n      <td>Sc Electromont Construct SRL Cluj Napoca</td>\n      <td>R12112350</td>\n    </tr>\n    <tr>\n      <th>1</th>\n      <td>2</td>\n      <td>SC IFA GROUP SRL</td>\n      <td>16961235</td>\n    </tr>\n    <tr>\n      <th>2</th>\n      <td>3</td>\n      <td>SC SARTOTOM IMPEX SRL</td>\n      <td>RO378562</td>\n    </tr>\n    <tr>\n      <th>3</th>\n      <td>4</td>\n      <td>SC LABORSISTEM SRL</td>\n      <td>15417287</td>\n    </tr>\n    <tr>\n      <th>4</th>\n      <td>5</td>\n      <td>SC GAS ALARM SERVICES SRL</td>\n      <td>R14607429</td>\n    </tr>\n    <tr>\n      <th>...</th>\n      <td>...</td>\n      <td>...</td>\n      <td>...</td>\n    </tr>\n    <tr>\n      <th>289468</th>\n      <td>388116</td>\n      <td>DANI SER ADMINISTRARE S.R.L.</td>\n      <td>25386838</td>\n    </tr>\n    <tr>\n      <th>289469</th>\n      <td>388117</td>\n      <td>BURZO-CONSTRUCT</td>\n      <td>2199415</td>\n    </tr>\n    <tr>\n      <th>289470</th>\n      <td>388118</td>\n      <td>MK &amp; GE CONSTRUCT 2020 S.R.L.</td>\n      <td>42150976</td>\n    </tr>\n    <tr>\n      <th>289471</th>\n      <td>388119</td>\n      <td>ADVICE GROUP MEDIA</td>\n      <td>RO15362904</td>\n    </tr>\n    <tr>\n      <th>289472</th>\n      <td>388120</td>\n      <td>TRANS-NICOLAESCU</td>\n      <td>RO14426570</td>\n    </tr>\n  </tbody>\n</table>\n<p>238167 rows × 3 columns</p>\n</div>"
     },
     "execution_count": 256,
     "metadata": {},
     "output_type": "execute_result"
    }
   ],
   "source": [
    "cui_organizations = organizations.loc[organizations[\"CUI\"].notnull()]\n",
    "\n",
    "cui_organizations"
   ],
   "metadata": {
    "collapsed": false
   }
  },
  {
   "cell_type": "code",
   "execution_count": 257,
   "outputs": [
    {
     "data": {
      "text/plain": "        organizationId                        name         CUI\n2                    3       SC SARTOTOM IMPEX SRL    RO378562\n8                    9     SC Cipris Construct SRL  RO19110136\n9                   10                SC ROMVAC SA    RO482384\n11                  12  ALIBRIS DISTRIBUTIE S.R.L.  RO15525580\n12                  13  RO BO IMPORT EXPORT S.R.L.   RO3013617\n...                ...                         ...         ...\n289464          388112                      UNIGAZ   RO5247363\n289466          388114       INOVA TEAM CONSULTING  RO45871543\n289467          388115                      DENSIT   RO6786749\n289471          388119          ADVICE GROUP MEDIA  RO15362904\n289472          388120            TRANS-NICOLAESCU  RO14426570\n\n[110799 rows x 3 columns]",
      "text/html": "<div>\n<style scoped>\n    .dataframe tbody tr th:only-of-type {\n        vertical-align: middle;\n    }\n\n    .dataframe tbody tr th {\n        vertical-align: top;\n    }\n\n    .dataframe thead th {\n        text-align: right;\n    }\n</style>\n<table border=\"1\" class=\"dataframe\">\n  <thead>\n    <tr style=\"text-align: right;\">\n      <th></th>\n      <th>organizationId</th>\n      <th>name</th>\n      <th>CUI</th>\n    </tr>\n  </thead>\n  <tbody>\n    <tr>\n      <th>2</th>\n      <td>3</td>\n      <td>SC SARTOTOM IMPEX SRL</td>\n      <td>RO378562</td>\n    </tr>\n    <tr>\n      <th>8</th>\n      <td>9</td>\n      <td>SC Cipris Construct SRL</td>\n      <td>RO19110136</td>\n    </tr>\n    <tr>\n      <th>9</th>\n      <td>10</td>\n      <td>SC ROMVAC SA</td>\n      <td>RO482384</td>\n    </tr>\n    <tr>\n      <th>11</th>\n      <td>12</td>\n      <td>ALIBRIS DISTRIBUTIE S.R.L.</td>\n      <td>RO15525580</td>\n    </tr>\n    <tr>\n      <th>12</th>\n      <td>13</td>\n      <td>RO BO IMPORT EXPORT S.R.L.</td>\n      <td>RO3013617</td>\n    </tr>\n    <tr>\n      <th>...</th>\n      <td>...</td>\n      <td>...</td>\n      <td>...</td>\n    </tr>\n    <tr>\n      <th>289464</th>\n      <td>388112</td>\n      <td>UNIGAZ</td>\n      <td>RO5247363</td>\n    </tr>\n    <tr>\n      <th>289466</th>\n      <td>388114</td>\n      <td>INOVA TEAM CONSULTING</td>\n      <td>RO45871543</td>\n    </tr>\n    <tr>\n      <th>289467</th>\n      <td>388115</td>\n      <td>DENSIT</td>\n      <td>RO6786749</td>\n    </tr>\n    <tr>\n      <th>289471</th>\n      <td>388119</td>\n      <td>ADVICE GROUP MEDIA</td>\n      <td>RO15362904</td>\n    </tr>\n    <tr>\n      <th>289472</th>\n      <td>388120</td>\n      <td>TRANS-NICOLAESCU</td>\n      <td>RO14426570</td>\n    </tr>\n  </tbody>\n</table>\n<p>110799 rows × 3 columns</p>\n</div>"
     },
     "execution_count": 257,
     "metadata": {},
     "output_type": "execute_result"
    }
   ],
   "source": [
    "vat_organizations = cui_organizations.loc[cui_organizations['CUI'].str.contains('RO', case=False)]\n",
    "\n",
    "vat_organizations"
   ],
   "metadata": {
    "collapsed": false
   }
  },
  {
   "cell_type": "markdown",
   "source": [],
   "metadata": {
    "collapsed": false
   }
  },
  {
   "cell_type": "code",
   "execution_count": 258,
   "outputs": [
    {
     "data": {
      "text/plain": "38.27610865262045"
     },
     "execution_count": 258,
     "metadata": {},
     "output_type": "execute_result"
    }
   ],
   "source": [
    "percentage_vat_organizations = (len(vat_organizations) / len(organizations)) * 100\n",
    "\n",
    "percentage_vat_organizations"
   ],
   "metadata": {
    "collapsed": false
   }
  },
  {
   "cell_type": "code",
   "execution_count": 259,
   "outputs": [],
   "source": [
    "def validate_cif(cif):\n",
    "    cif = str(cif)\n",
    "    cif = cif.strip()\n",
    "\n",
    "    if not cif.isnumeric():\n",
    "        if cif[0:2].upper() == \"RO\":\n",
    "            cif = cif[2:]\n",
    "            cif = cif.strip()\n",
    "    if not cif.isnumeric():\n",
    "        return False\n",
    "\n",
    "    if len(cif) < 2 or len(cif) > 10:\n",
    "        return False\n",
    "\n",
    "    control = 753217532\n",
    "    cif = int(cif)\n",
    "    c1 = cif % 10\n",
    "    cif = int(cif / 10)\n",
    "\n",
    "    t = 0\n",
    "    while cif > 0:\n",
    "        t += (cif % 10) * (control % 10)\n",
    "        cif = int(cif / 10)\n",
    "        control = int(control / 10)\n",
    "\n",
    "    c2 = t * 10 % 11\n",
    "\n",
    "    if c2 == 10:\n",
    "        c2 = 0\n",
    "\n",
    "    return c1 == c2"
   ],
   "metadata": {
    "collapsed": false
   }
  },
  {
   "cell_type": "code",
   "execution_count": 260,
   "outputs": [
    {
     "data": {
      "text/plain": "        organizationId                           name         CUI\n1                    2               SC IFA GROUP SRL    16961235\n2                    3          SC SARTOTOM IMPEX SRL    RO378562\n3                    4             SC LABORSISTEM SRL    15417287\n5                    6        SC MIND ENGINEERING SRL    14976981\n6                    7               SC COMLIBRIS SRL     2665191\n...                ...                            ...         ...\n289468          388116   DANI SER ADMINISTRARE S.R.L.    25386838\n289469          388117                BURZO-CONSTRUCT     2199415\n289470          388118  MK & GE CONSTRUCT 2020 S.R.L.    42150976\n289471          388119             ADVICE GROUP MEDIA  RO15362904\n289472          388120               TRANS-NICOLAESCU  RO14426570\n\n[230770 rows x 3 columns]",
      "text/html": "<div>\n<style scoped>\n    .dataframe tbody tr th:only-of-type {\n        vertical-align: middle;\n    }\n\n    .dataframe tbody tr th {\n        vertical-align: top;\n    }\n\n    .dataframe thead th {\n        text-align: right;\n    }\n</style>\n<table border=\"1\" class=\"dataframe\">\n  <thead>\n    <tr style=\"text-align: right;\">\n      <th></th>\n      <th>organizationId</th>\n      <th>name</th>\n      <th>CUI</th>\n    </tr>\n  </thead>\n  <tbody>\n    <tr>\n      <th>1</th>\n      <td>2</td>\n      <td>SC IFA GROUP SRL</td>\n      <td>16961235</td>\n    </tr>\n    <tr>\n      <th>2</th>\n      <td>3</td>\n      <td>SC SARTOTOM IMPEX SRL</td>\n      <td>RO378562</td>\n    </tr>\n    <tr>\n      <th>3</th>\n      <td>4</td>\n      <td>SC LABORSISTEM SRL</td>\n      <td>15417287</td>\n    </tr>\n    <tr>\n      <th>5</th>\n      <td>6</td>\n      <td>SC MIND ENGINEERING SRL</td>\n      <td>14976981</td>\n    </tr>\n    <tr>\n      <th>6</th>\n      <td>7</td>\n      <td>SC COMLIBRIS SRL</td>\n      <td>2665191</td>\n    </tr>\n    <tr>\n      <th>...</th>\n      <td>...</td>\n      <td>...</td>\n      <td>...</td>\n    </tr>\n    <tr>\n      <th>289468</th>\n      <td>388116</td>\n      <td>DANI SER ADMINISTRARE S.R.L.</td>\n      <td>25386838</td>\n    </tr>\n    <tr>\n      <th>289469</th>\n      <td>388117</td>\n      <td>BURZO-CONSTRUCT</td>\n      <td>2199415</td>\n    </tr>\n    <tr>\n      <th>289470</th>\n      <td>388118</td>\n      <td>MK &amp; GE CONSTRUCT 2020 S.R.L.</td>\n      <td>42150976</td>\n    </tr>\n    <tr>\n      <th>289471</th>\n      <td>388119</td>\n      <td>ADVICE GROUP MEDIA</td>\n      <td>RO15362904</td>\n    </tr>\n    <tr>\n      <th>289472</th>\n      <td>388120</td>\n      <td>TRANS-NICOLAESCU</td>\n      <td>RO14426570</td>\n    </tr>\n  </tbody>\n</table>\n<p>230770 rows × 3 columns</p>\n</div>"
     },
     "execution_count": 260,
     "metadata": {},
     "output_type": "execute_result"
    }
   ],
   "source": [
    "valid_cif_organizations = cui_organizations.loc[cui_organizations.apply(lambda row: validate_cif(row['CUI']), axis = 1)]\n",
    "\n",
    "valid_cif_organizations"
   ],
   "metadata": {
    "collapsed": false
   }
  },
  {
   "cell_type": "code",
   "execution_count": 261,
   "outputs": [
    {
     "data": {
      "text/plain": "79.720733885371"
     },
     "execution_count": 261,
     "metadata": {},
     "output_type": "execute_result"
    }
   ],
   "source": [
    "percentage_valid_cif_organizations = (len(valid_cif_organizations) / len(organizations)) * 100\n",
    "\n",
    "percentage_valid_cif_organizations"
   ],
   "metadata": {
    "collapsed": false
   }
  }
 ],
 "metadata": {
  "kernelspec": {
   "display_name": "Python 3",
   "language": "python",
   "name": "python3"
  },
  "language_info": {
   "codemirror_mode": {
    "name": "ipython",
    "version": 2
   },
   "file_extension": ".py",
   "mimetype": "text/x-python",
   "name": "python",
   "nbconvert_exporter": "python",
   "pygments_lexer": "ipython2",
   "version": "2.7.6"
  }
 },
 "nbformat": 4,
 "nbformat_minor": 0
}
